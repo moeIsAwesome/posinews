{
 "cells": [
  {
   "attachments": {},
   "cell_type": "markdown",
   "metadata": {},
   "source": [
    "### Importing necessary libraries and loading"
   ]
  },
  {
   "cell_type": "code",
   "execution_count": 5,
   "metadata": {},
   "outputs": [],
   "source": [
    "import pandas as pd\n",
    "\n",
    "# Load the CSV file into a DataFrame\n",
    "data = pd.read_csv('dataset.csv')"
   ]
  },
  {
   "attachments": {},
   "cell_type": "markdown",
   "metadata": {},
   "source": [
    "### Preprocessing\n"
   ]
  },
  {
   "cell_type": "code",
   "execution_count": 6,
   "metadata": {},
   "outputs": [
    {
     "name": "stdout",
     "output_type": "stream",
     "text": [
      "                                            sentence      lable\n",
      "0   government announces increased funding for ed...   Positive\n",
      "1   natural disaster relief efforts receive inter...   Positive\n",
      "2   company announces layoffs employees face unce...   Negative\n",
      "3   scientific breakthrough offers hope for alzhe...   Positive\n",
      "4   stock market surges to all time high investor...   Positive\n"
     ]
    }
   ],
   "source": [
    "\n",
    "# Convert text to lowercase\n",
    "data['sentence'] = data['sentence'].str.lower()\n",
    "\n",
    "# Handling missing values (if any) and remove the columns with missing values\n",
    "data.dropna(inplace=True)\n",
    "# dropna method returns a new dataframe by its nature, to avoid that we pass the inplace=True to it to modify our existing dataframe from the previous lines\n",
    "\n",
    "print(data.head())"
   ]
  }
 ],
 "metadata": {
  "kernelspec": {
   "display_name": "Python 3",
   "language": "python",
   "name": "python3"
  },
  "language_info": {
   "codemirror_mode": {
    "name": "ipython",
    "version": 3
   },
   "file_extension": ".py",
   "mimetype": "text/x-python",
   "name": "python",
   "nbconvert_exporter": "python",
   "pygments_lexer": "ipython3",
   "version": "3.11.3"
  },
  "orig_nbformat": 4
 },
 "nbformat": 4,
 "nbformat_minor": 2
}
